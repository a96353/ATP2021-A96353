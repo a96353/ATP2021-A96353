{
 "cells": [
  {
   "cell_type": "markdown",
   "metadata": {},
   "source": [
    "## Calculadora de Fracções"
   ]
  },
  {
   "cell_type": "markdown",
   "metadata": {},
   "source": [
    "Key name: TPC4\n",
    "\n",
    "Título: Calculadora de Frações\n",
    "\n",
    "Data de início: 2021-11-9\n",
    "\n",
    "Data de fim: 2021-11-11\n",
    "\n",
    "Supervisor: José Carlos Leite Ramalho, https://ducv4.uminho.pt:8443/Page_Docentes.aspx?courseid=_49539_1&locale=pt-PT\n",
    "\n",
    "Autor: Inês Margarida Sousa Mendes, a96353"
   ]
  },
  {
   "cell_type": "markdown",
   "metadata": {},
   "source": [
    "Resumo: O código em python apresentado tem o objetivo de ser uma espécie de calculadora para a manipulação de frações. Neste caso, é pedido ao utilizador que introduza as frações e a operação que pretende efetuar, e de seguida é apresentado o resultado."
   ]
  },
  {
   "cell_type": "code",
   "execution_count": null,
   "metadata": {},
   "outputs": [],
   "source": [
    "def criarFracao(numerador, denominador):\n",
    "    return (numerador, denominador)\n",
    "\n",
    "def verFracao(f):\n",
    "    n,d=f\n",
    "    print(str(n) + \"/\" + str(d))\n",
    "    \n",
    "def mdc(a,b):\n",
    "    if a<b:\n",
    "        return mdc(b,a)\n",
    "    elif a%b==0:\n",
    "        return b\n",
    "    else:\n",
    "        return mdc(a, a%b)\n",
    "def simplificarFracao(f):\n",
    "    n,d=f\n",
    "    m=mdc(n,d)\n",
    "    return (int(n/m), int(d/m))\n",
    "        \n",
    "\n",
    "def somaFracao(f1,f2):\n",
    "    n1,d1=f1\n",
    "    n2,d2=f2\n",
    "    return simplificarFracao(((n1*d2)+(n2*d1), (d1*d2)))\n",
    "\n",
    "def subtracaoFracao(f1,f2):\n",
    "    n1,d1=f1\n",
    "    n2,d2=f2\n",
    "    return simplificarFracao(((n1*d2)-(n2*d1), (d1*d2)))\n",
    "\n",
    "def divisaoFracao(f1,f2):\n",
    "    n1,d1=f1\n",
    "    n2,d2=f2\n",
    "    return simplificarFracao(((n1*d2),(d1*n2)))\n",
    "\n",
    "def multiplicacaoFracao(f1,f2):\n",
    "    n1,d1=f1\n",
    "    n2,d2=f2\n",
    "    return simplificarFracao(((n1*n2),(d1*d2)))\n",
    "\n",
    "print(\"Bem-vindo à calculadora de frações!\")\n",
    "def CalculadoraFracoes():\n",
    "    n1=int(input(\"Introduza o numerador da primeira fração:\"))\n",
    "    d1=int(input(\"Introduza o denominador da primeira fração:\"))\n",
    "    f1=(n1,d1)\n",
    "    n2=int(input(\"Introduza o numerador da segunda fração:\"))\n",
    "    d2=int(input(\"Introduza o denominador da segunda fração:\"))\n",
    "    f2=(n2,d2)\n",
    "    o=input(\"Qual a operação que deseja efetuar?(+ = soma; - = subtração, / = divisão, * = multiplicação)\")\n",
    "    if o == \"+\":\n",
    "        print(\"Resultado:\")\n",
    "        verFracao(somaFracao(f1,f2))\n",
    "    elif o == \"-\":\n",
    "        print(\"Resultado:\")\n",
    "        verFracao(subtracaoFracao(f1,f2))\n",
    "    elif o == \"/\":\n",
    "        print(\"Resultado:\")\n",
    "        verFracao(divisaoFracao(f1,f2))\n",
    "    elif o == \"*\":\n",
    "        print(\"Resultado:\")\n",
    "        verFracao(multiplicacaoFracao(f1,f2))\n",
    "    else:\n",
    "        print(\"Operador inválido!\")\n",
    "    a=input(\"Desejar sair(S) ou fazer uma nova operação(N)?\")\n",
    "    if a == \"S\":\n",
    "        print(\"Adeus!\")\n",
    "    else:\n",
    "        return CalculadoraFracoes()\n",
    "    \n",
    "CalculadoraFracoes()\n"
   ]
  },
  {
   "cell_type": "code",
   "execution_count": null,
   "metadata": {},
   "outputs": [],
   "source": []
  },
  {
   "cell_type": "code",
   "execution_count": null,
   "metadata": {},
   "outputs": [],
   "source": []
  }
 ],
 "metadata": {
  "kernelspec": {
   "display_name": "Python 3",
   "language": "python",
   "name": "python3"
  },
  "language_info": {
   "codemirror_mode": {
    "name": "ipython",
    "version": 3
   },
   "file_extension": ".py",
   "mimetype": "text/x-python",
   "name": "python",
   "nbconvert_exporter": "python",
   "pygments_lexer": "ipython3",
   "version": "3.8.3"
  }
 },
 "nbformat": 4,
 "nbformat_minor": 4
}
