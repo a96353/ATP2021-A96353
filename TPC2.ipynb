{
 "cells": [
  {
   "cell_type": "markdown",
   "metadata": {},
   "source": [
    "## Adivinha o Número"
   ]
  },
  {
   "cell_type": "markdown",
   "metadata": {},
   "source": [
    "Key name: TPC2\n",
    "\n",
    "Título: Jogo Adivinha o Número\n",
    "\n",
    "Data de início: 2021-10-16\n",
    "\n",
    "Data de fim: 2021-20-19\n",
    "\n",
    "Supervisor: José Carlos Leite Ramalho, https://ducv4.uminho.pt:8443/Page_Docentes.aspx?courseid=_49539_1&locale=pt-PT\n",
    "\n",
    "Autor: Inês Margarida Sousa Mendes, a96353\n",
    "\n"
   ]
  },
  {
   "cell_type": "markdown",
   "metadata": {},
   "source": [
    "Resumo: O código em python apresentado é de um jogo chamado \"Adivinha o Número\". Neste jogo pretende-se que o computador adivinhe o número pensado pelo utilizador no menor númmero de tentativas possível. O utilizador vai dando a indicação de 'maior' ou 'menor' ou, no caso de o computador ter acertado, 'sim'."
   ]
  },
  {
   "cell_type": "code",
   "execution_count": 2,
   "metadata": {},
   "outputs": [
    {
     "name": "stdout",
     "output_type": "stream",
     "text": [
      "O número é 50 ? (responda sim, maior ou menor)\n",
      "menor\n",
      "O número é 25 ? (responda sim, maior ou menor)\n",
      "menor\n",
      "O número é 12 ? (responda sim, maior ou menor)\n",
      "menor\n",
      "O número é 6 ? (responda sim, maior ou menor)\n",
      "maior\n",
      "O número é 9 ? (responda sim, maior ou menor)\n",
      "menor\n",
      "O número é 8 ? (responda sim, maior ou menor)\n",
      "menor\n",
      "O número é 7 ? (responda sim, maior ou menor)\n",
      "sim\n",
      "Boa! Terminou o jogo!\n"
     ]
    }
   ],
   "source": [
    "L= [1,2,3,4,5,6,7,8,9,10,11,12,13,14,15,16,17,18,19,20,21,22,23,24,25,26,27,28,29,30,31,32,33,34,35,36,37,38,39,40,41,42,43,44,45,46,47,48,49,50,51,52,53,54,55,56,57,58,59,60,61,62,63,64,65,66,67,68,69,70,71,72,73,74,75,76,77,78,79,80,81,82,83,84,85,86,87,88,89,90,91,92,93,94,95,96,97,98,99,100]\n",
    "x=0\n",
    "y=100\n",
    "def adivinha_o_numero(L, x, y):\n",
    "    a=int((x+y)/2)\n",
    "    print('O número é', a, '? (responda sim, maior ou menor)')\n",
    "    resposta1=input()\n",
    "    if resposta1=='sim':\n",
    "        print(\"Boa! Terminou o jogo!\")\n",
    "    elif resposta1=='maior':\n",
    "        return adivinha_o_numero(L, a+1, y)\n",
    "    elif resposta1=='menor':\n",
    "        return adivinha_o_numero(L, x, a)\n",
    "    else:\n",
    "        print('Erro!')\n",
    "        return adivinha_o_numero(L, x, y)\n",
    "\n",
    "adivinha_o_numero(L,x,y)"
   ]
  },
  {
   "cell_type": "code",
   "execution_count": null,
   "metadata": {},
   "outputs": [],
   "source": []
  }
 ],
 "metadata": {
  "kernelspec": {
   "display_name": "Python 3",
   "language": "python",
   "name": "python3"
  },
  "language_info": {
   "codemirror_mode": {
    "name": "ipython",
    "version": 3
   },
   "file_extension": ".py",
   "mimetype": "text/x-python",
   "name": "python",
   "nbconvert_exporter": "python",
   "pygments_lexer": "ipython3",
   "version": "3.8.3"
  }
 },
 "nbformat": 4,
 "nbformat_minor": 4
}
