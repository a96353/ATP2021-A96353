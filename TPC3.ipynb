{
 "cells": [
  {
   "cell_type": "markdown",
   "metadata": {},
   "source": [
    "## BubbleSort\n"
   ]
  },
  {
   "cell_type": "markdown",
   "metadata": {},
   "source": [
    "Key name: TPC3\n",
    "\n",
    "Título: BubbleSort\n",
    "\n",
    "Data de início: 2021-11-01\n",
    "\n",
    "Data de fim: 2021-11-03\n",
    "\n",
    "Supervisor: José Carlos Leite Ramalho, https://ducv4.uminho.pt:8443/Page_Docentes.aspx?courseid=_49539_1&locale=pt-PT\n",
    "\n",
    "Autor: Inês Margarida Sousa Mendes, a96353"
   ]
  },
  {
   "cell_type": "markdown",
   "metadata": {},
   "source": [
    "Resumo: O código em python apresentado é de um método de ordenação chamado BubbleSort que funciona trocando repetidamente os elementos adjacentes se eles estiverem na ordem errada. Este processo é feito repetidamente até a lista estar completamente ordenada."
   ]
  },
  {
   "cell_type": "code",
   "execution_count": 1,
   "metadata": {},
   "outputs": [
    {
     "name": "stdout",
     "output_type": "stream",
     "text": [
      "[5, 7, 34, 56, 12, 2, 37]\n"
     ]
    }
   ],
   "source": [
    "def bubblesort(lista):\n",
    "    semáforo=0\n",
    "    num= len(lista)-1\n",
    "    while num>0 and semáforo:\n",
    "        semáforo=0\n",
    "        for i in range(len(lista)):\n",
    "            if lista[i]>lista[i+1]:\n",
    "                semáforo=1\n",
    "                a=lista[i]\n",
    "                lista[i]=lista[i+1]\n",
    "                lista[i+1]=a\n",
    "        num=num-1\n",
    "    return lista\n",
    "            \n",
    "lista=[5,7,34,56,12,2,37]\n",
    "print(bubblesort(lista))\n"
   ]
  },
  {
   "cell_type": "code",
   "execution_count": null,
   "metadata": {},
   "outputs": [],
   "source": []
  }
 ],
 "metadata": {
  "kernelspec": {
   "display_name": "Python 3",
   "language": "python",
   "name": "python3"
  },
  "language_info": {
   "codemirror_mode": {
    "name": "ipython",
    "version": 3
   },
   "file_extension": ".py",
   "mimetype": "text/x-python",
   "name": "python",
   "nbconvert_exporter": "python",
   "pygments_lexer": "ipython3",
   "version": "3.8.3"
  }
 },
 "nbformat": 4,
 "nbformat_minor": 4
}
